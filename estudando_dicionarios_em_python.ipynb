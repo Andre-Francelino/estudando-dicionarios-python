{
 "cells": [
  {
   "cell_type": "markdown",
   "id": "89aa57b5",
   "metadata": {},
   "source": [
    "# Dicionários em Python\n",
    "Dicionários em Python são coleções de pares chave-valor, onde cada chave é única. Eles são muito úteis quando você precisa associar um conjunto de valores a chaves específicas, permitindo acesso rápido aos dados com base na chave."
   ]
  },
  {
   "cell_type": "markdown",
   "id": "2d3dd27a",
   "metadata": {},
   "source": [
    "### Criação de dicionários \n",
    "#### utilizando colchetes"
   ]
  },
  {
   "cell_type": "code",
   "execution_count": 1,
   "id": "75f4f8e1",
   "metadata": {},
   "outputs": [],
   "source": [
    "meu_dic = {\n",
    "    \"nome\": \"Karen Page\",\n",
    "    \"idade\": 26,\n",
    "    \"cidade\": \"Nova York\",\n",
    "    \"bairro\": \"Hells Kitchen\",\n",
    "    \"profissao\": \"Jornalista\"\n",
    "}"
   ]
  },
  {
   "cell_type": "code",
   "execution_count": 2,
   "id": "0ee14446",
   "metadata": {},
   "outputs": [
    {
     "data": {
      "text/plain": [
       "{'nome': 'Karen Page',\n",
       " 'idade': 26,\n",
       " 'cidade': 'Nova York',\n",
       " 'bairro': 'Hells Kitchen',\n",
       " 'profissao': 'Jornalista'}"
      ]
     },
     "execution_count": 2,
     "metadata": {},
     "output_type": "execute_result"
    }
   ],
   "source": [
    "meu_dic"
   ]
  },
  {
   "cell_type": "markdown",
   "id": "2f895185",
   "metadata": {},
   "source": [
    "#### utilizando função ´dict´"
   ]
  },
  {
   "cell_type": "code",
   "execution_count": 4,
   "id": "13a84b4c",
   "metadata": {},
   "outputs": [],
   "source": [
    "meu_dic = dict(nome = \"Karen Page\", idade = 26, cidade = \"Nova York\", bairro = \"Hells Kitchen\", profissao = \"Jornalista\")"
   ]
  },
  {
   "cell_type": "code",
   "execution_count": 5,
   "id": "f5161c4d",
   "metadata": {},
   "outputs": [
    {
     "data": {
      "text/plain": [
       "{'nome': 'Karen Page',\n",
       " 'idade': 26,\n",
       " 'cidade': 'Nova York',\n",
       " 'bairro': 'Hells Kitchen',\n",
       " 'profissao': 'Jornalista'}"
      ]
     },
     "execution_count": 5,
     "metadata": {},
     "output_type": "execute_result"
    }
   ],
   "source": [
    "meu_dic"
   ]
  },
  {
   "cell_type": "markdown",
   "id": "8c2439e2",
   "metadata": {},
   "source": [
    "### Acessando valores em um dicionário\n",
    "#### Para acessar um valor no dicionário basta usar a chave valor correspondente\n",
    "Vamos acessar o valor da idade"
   ]
  },
  {
   "cell_type": "code",
   "execution_count": 6,
   "id": "1f2a7f63",
   "metadata": {},
   "outputs": [
    {
     "name": "stdout",
     "output_type": "stream",
     "text": [
      "26\n"
     ]
    }
   ],
   "source": [
    "idade = meu_dic[\"idade\"]\n",
    "print(idade)"
   ]
  },
  {
   "cell_type": "markdown",
   "id": "e621b7db",
   "metadata": {},
   "source": [
    "Vamos acessar o nome e profissão"
   ]
  },
  {
   "cell_type": "code",
   "execution_count": 7,
   "id": "7b5ef25d",
   "metadata": {},
   "outputs": [
    {
     "name": "stdout",
     "output_type": "stream",
     "text": [
      "Karen Page - Jornalista\n"
     ]
    }
   ],
   "source": [
    "nome = meu_dic[\"nome\"]\n",
    "profissao = meu_dic[\"profissao\"]\n",
    "print(nome,\"-\",profissao)"
   ]
  },
  {
   "cell_type": "markdown",
   "id": "3c419026",
   "metadata": {},
   "source": [
    "### Adicionando e atualizando itens"
   ]
  },
  {
   "cell_type": "markdown",
   "id": "a7fa60be",
   "metadata": {},
   "source": [
    "adicionando par chave-valor de e-mail"
   ]
  },
  {
   "cell_type": "code",
   "execution_count": 8,
   "id": "751fa708",
   "metadata": {},
   "outputs": [],
   "source": [
    "meu_dic[\"e-mail\"] = \"karen.page@hellskitnews.com\""
   ]
  },
  {
   "cell_type": "markdown",
   "id": "626bb4cd",
   "metadata": {},
   "source": [
    "atualizando o par chave-valor de idade"
   ]
  },
  {
   "cell_type": "code",
   "execution_count": 11,
   "id": "a310dd0b",
   "metadata": {},
   "outputs": [],
   "source": [
    "meu_dic[\"idade\"] = 27"
   ]
  },
  {
   "cell_type": "code",
   "execution_count": 12,
   "id": "3d91c287",
   "metadata": {},
   "outputs": [
    {
     "data": {
      "text/plain": [
       "{'nome': 'Karen Page',\n",
       " 'idade': 27,\n",
       " 'cidade': 'Nova York',\n",
       " 'bairro': 'Hells Kitchen',\n",
       " 'profissao': 'Jornalista',\n",
       " 'e-mail': 'karen.page@hellskitnews.com'}"
      ]
     },
     "execution_count": 12,
     "metadata": {},
     "output_type": "execute_result"
    }
   ],
   "source": [
    "meu_dic"
   ]
  },
  {
   "cell_type": "markdown",
   "id": "4ff35467",
   "metadata": {},
   "source": [
    "### Removendo itens\n",
    "Existem várias formas para remover itens de um dicionário:"
   ]
  },
  {
   "cell_type": "markdown",
   "id": "38cf8554",
   "metadata": {},
   "source": [
    "#### utilizando `del`"
   ]
  },
  {
   "cell_type": "code",
   "execution_count": 13,
   "id": "e87a9692",
   "metadata": {},
   "outputs": [],
   "source": [
    "del meu_dic[\"cidade\"]"
   ]
  },
  {
   "cell_type": "code",
   "execution_count": 14,
   "id": "159e2397",
   "metadata": {},
   "outputs": [
    {
     "data": {
      "text/plain": [
       "{'nome': 'Karen Page',\n",
       " 'idade': 27,\n",
       " 'bairro': 'Hells Kitchen',\n",
       " 'profissao': 'Jornalista',\n",
       " 'e-mail': 'karen.page@hellskitnews.com'}"
      ]
     },
     "execution_count": 14,
     "metadata": {},
     "output_type": "execute_result"
    }
   ],
   "source": [
    "meu_dic"
   ]
  },
  {
   "cell_type": "markdown",
   "id": "96f219b8",
   "metadata": {},
   "source": [
    "#### utilizando `pop`"
   ]
  },
  {
   "cell_type": "code",
   "execution_count": 15,
   "id": "f5d35892",
   "metadata": {},
   "outputs": [],
   "source": [
    "bairro = meu_dic.pop(\"bairro\")"
   ]
  },
  {
   "cell_type": "markdown",
   "id": "3aa49ee8",
   "metadata": {},
   "source": [
    "### Métodos Comuns"
   ]
  },
  {
   "cell_type": "markdown",
   "id": "4fb090d1",
   "metadata": {},
   "source": [
    "`keys()`\n",
    "Retorna uma visão das chaves"
   ]
  },
  {
   "cell_type": "code",
   "execution_count": 16,
   "id": "cfdac090",
   "metadata": {},
   "outputs": [],
   "source": [
    "chaves = meu_dic.keys()"
   ]
  },
  {
   "cell_type": "markdown",
   "id": "4b80e917",
   "metadata": {},
   "source": [
    "`values()`\n",
    "Retorna uma visão dos valores"
   ]
  },
  {
   "cell_type": "code",
   "execution_count": 17,
   "id": "1e836bfd",
   "metadata": {},
   "outputs": [],
   "source": [
    "valores = meu_dic.values()"
   ]
  },
  {
   "cell_type": "markdown",
   "id": "b0c2b857",
   "metadata": {},
   "source": [
    "`items()` Retorna uma visão dos pares chaves-valor"
   ]
  },
  {
   "cell_type": "markdown",
   "id": "0bf2d873",
   "metadata": {},
   "source": [
    "`get()` Retorna o valor para uma chave, ou o `Nome` se a chave não existir"
   ]
  },
  {
   "cell_type": "code",
   "execution_count": 18,
   "id": "283880a9",
   "metadata": {},
   "outputs": [],
   "source": [
    "idade = meu_dic.get(\"idade\", \"chave não encontrada\")"
   ]
  },
  {
   "cell_type": "code",
   "execution_count": 19,
   "id": "58911a1b",
   "metadata": {},
   "outputs": [
    {
     "data": {
      "text/plain": [
       "{'nome': 'Karen Page',\n",
       " 'idade': 27,\n",
       " 'profissao': 'Jornalista',\n",
       " 'e-mail': 'karen.page@hellskitnews.com'}"
      ]
     },
     "execution_count": 19,
     "metadata": {},
     "output_type": "execute_result"
    }
   ],
   "source": [
    "meu_dic"
   ]
  },
  {
   "cell_type": "code",
   "execution_count": null,
   "id": "10521394",
   "metadata": {},
   "outputs": [],
   "source": []
  }
 ],
 "metadata": {
  "kernelspec": {
   "display_name": "Python 3 (ipykernel)",
   "language": "python",
   "name": "python3"
  },
  "language_info": {
   "codemirror_mode": {
    "name": "ipython",
    "version": 3
   },
   "file_extension": ".py",
   "mimetype": "text/x-python",
   "name": "python",
   "nbconvert_exporter": "python",
   "pygments_lexer": "ipython3",
   "version": "3.9.7"
  }
 },
 "nbformat": 4,
 "nbformat_minor": 5
}
